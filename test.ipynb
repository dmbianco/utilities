{
 "cells": [
  {
   "cell_type": "code",
   "execution_count": 25,
   "metadata": {},
   "outputs": [],
   "source": [
    "import random\n",
    "import string\n"
   ]
  },
  {
   "cell_type": "code",
   "execution_count": 38,
   "metadata": {},
   "outputs": [
    {
     "data": {
      "text/plain": [
       "248"
      ]
     },
     "execution_count": 38,
     "metadata": {},
     "output_type": "execute_result"
    }
   ],
   "source": [
    "\n"
   ]
  },
  {
   "cell_type": "code",
   "execution_count": 42,
   "metadata": {
    "scrolled": true
   },
   "outputs": [
    {
     "data": {
      "text/plain": [
       "'trYReLuJSi'"
      ]
     },
     "execution_count": 42,
     "metadata": {},
     "output_type": "execute_result"
    }
   ],
   "source": [
    "n = 10\n",
    "st = \"\"\n",
    "ch_set = string.ascii_letters\n",
    "for i in range(n):\n",
    "    rnd = random.getrandbits(8)\n",
    "    st += ch_set[rnd % len(ch_set)]\n",
    "st"
   ]
  },
  {
   "cell_type": "code",
   "execution_count": 99,
   "metadata": {},
   "outputs": [],
   "source": [
    "import string\n",
    "import datetime\n",
    "import time\n",
    "import itertools\n",
    "\n",
    "\n",
    "def n_characters_run_id(pattern=\"U2_D1\", already_generated_keys=None, sep=\"\"):\n",
    "    '''\n",
    "    It generates a unique identifier.\n",
    "    Pattern should be a string with the following pattern:\n",
    "        xN_yM\n",
    "    where x (y) should be 'U', 'L' or 'D' and N (M) can be any natural number.\n",
    "    Each atomic sequence 'xN' should be separeated by an underscore. An assertion error will\n",
    "    be raised if the previous constraints will not be respected.\n",
    "    '''\n",
    "    bag_of_chs = {}\n",
    "    bag_of_chs[\"U\"] = string.ascii_uppercase\n",
    "    bag_of_chs[\"L\"] = string.ascii_lowercase\n",
    "    bag_of_chs[\"D\"] = string.digits\n",
    "\n",
    "    def parse_pattern(pt):\n",
    "        pt = pt.split(\"_\")\n",
    "        assert len(pt) >= 1\n",
    "        bag = []\n",
    "        for p in pt:\n",
    "            assert p[0] in bag_of_chs\n",
    "            assert p[1:].isdigit()\n",
    "            assert int(p[1:]) > 0 and int(p[1:]) > 0\n",
    "            ch = p[0]\n",
    "            N = int(p[1:])\n",
    "            bag.extend([bag_of_chs[ch]]*N)\n",
    "        return bag\n",
    "    \n",
    "    bag = parse_pattern(pattern)\n",
    "\n",
    "    try:\n",
    "        run_ids = set(already_generated_keys)\n",
    "    except:\n",
    "        pass\n",
    "    finally:\n",
    "        run_ids = None\n",
    "\n",
    "    for x in itertools.product(*bag):\n",
    "        run_id = sep.join(x)\n",
    "        if run_ids is not None and run_id not in run_ids:\n",
    "            yield run_id\n",
    "        else:\n",
    "            yield run_id\n",
    "\n",
    "\n",
    "\n",
    "    \n"
   ]
  },
  {
   "cell_type": "code",
   "execution_count": 100,
   "metadata": {},
   "outputs": [
    {
     "name": "stdout",
     "output_type": "stream",
     "text": [
      "A00\n",
      "A01\n",
      "A02\n"
     ]
    }
   ],
   "source": [
    "i = 3\n",
    "for id_ in n_characters_run_id(pattern=\"U1_D2\"):\n",
    "    print(id_)\n",
    "    i -= 1\n",
    "    if i <= 0:\n",
    "        break"
   ]
  },
  {
   "cell_type": "code",
   "execution_count": 104,
   "metadata": {},
   "outputs": [
    {
     "data": {
      "text/plain": [
       "['AA', 'AB', 'AC', 'AD', 'AE', 'AF', 'AG', 'AH', 'AI', 'AJ']"
      ]
     },
     "execution_count": 104,
     "metadata": {},
     "output_type": "execute_result"
    }
   ],
   "source": [
    "def yield_func_wrapper(f, n=3, *args, **kwargs):\n",
    "    l = []\n",
    "    assert n >= 0\n",
    "    for x in f(*args, **kwargs):\n",
    "        l.append(x)\n",
    "        n -= 1\n",
    "        if n <= 0:\n",
    "            break\n",
    "    return l\n",
    "yield_func_wrapper(n_characters_run_id, pattern=\"U2\", n=10)"
   ]
  },
  {
   "cell_type": "code",
   "execution_count": 108,
   "metadata": {},
   "outputs": [
    {
     "data": {
      "text/plain": [
       "'AAA'"
      ]
     },
     "execution_count": 108,
     "metadata": {},
     "output_type": "execute_result"
    }
   ],
   "source": [
    "def yield_to_return_function(f):\n",
    "    def new_f(*args, **kwargs):\n",
    "        for x in f(*args, **kwargs):\n",
    "            a = x\n",
    "            break\n",
    "        return a\n",
    "    return new_f\n",
    "    \n",
    "yield_to_return_function(n_characters_run_id)(pattern=\"U3\")"
   ]
  },
  {
   "cell_type": "code",
   "execution_count": null,
   "metadata": {},
   "outputs": [],
   "source": []
  }
 ],
 "metadata": {
  "kernelspec": {
   "display_name": "Python 3",
   "language": "python",
   "name": "python3"
  },
  "language_info": {
   "codemirror_mode": {
    "name": "ipython",
    "version": 3
   },
   "file_extension": ".py",
   "mimetype": "text/x-python",
   "name": "python",
   "nbconvert_exporter": "python",
   "pygments_lexer": "ipython3",
   "version": "3.5.2"
  }
 },
 "nbformat": 4,
 "nbformat_minor": 2
}
